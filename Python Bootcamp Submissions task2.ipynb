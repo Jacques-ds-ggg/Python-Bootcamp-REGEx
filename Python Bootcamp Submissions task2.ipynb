{
 "cells": [
  {
   "cell_type": "markdown",
   "metadata": {},
   "source": [
    "# Assignment 2 - Python Bootcamp\n",
    "### Task 2\n",
    "> **Jacques van der Westhuizen**\n",
    "\n",
    "> *2021-11-21*\n",
    "\n",
    "\n",
    "> Q1 You need to take two input as number from the user and find out the Greatest Common Divisor of\n",
    "those two number and save it in a C drive with the file name as gcd_data.txt"
   ]
  },
  {
   "cell_type": "code",
   "execution_count": 1,
   "metadata": {},
   "outputs": [
    {
     "name": "stdout",
     "output_type": "stream",
     "text": [
      "Enter first number! 6\n",
      "Enter second number! 9\n"
     ]
    }
   ],
   "source": [
    "import math\n",
    "input_1 = input(\"Enter first number! \")\n",
    "input_2 = input(\"Enter second number! \")\n",
    "GCD_input = math.gcd(int(input_1),int(input_2))\n",
    "with open('gcd_data.txt', 'w') as f:\n",
    "    f.writelines(str(GCD_input))"
   ]
  },
  {
   "cell_type": "code",
   "execution_count": 2,
   "metadata": {},
   "outputs": [
    {
     "name": "stdout",
     "output_type": "stream",
     "text": [
      "['3']\n"
     ]
    }
   ],
   "source": [
    "with open('gcd_data.txt', 'r') as f:\n",
    "    file_text = f.readlines()\n",
    "print(file_text)"
   ]
  },
  {
   "cell_type": "markdown",
   "metadata": {},
   "source": [
    "> Q2 Open a file in a read & write format make sure you make the write process from the byte position of \n",
    "your pointer from 15\n",
    "- validate that by going through the file again"
   ]
  },
  {
   "cell_type": "code",
   "execution_count": 3,
   "metadata": {},
   "outputs": [
    {
     "name": "stdout",
     "output_type": "stream",
     "text": [
      "Pointer Position : 0\n",
      "Pointer Position : 15\n",
      "Print line from 15, 25 after : ESS IN YOU\n",
      "Concerned but \n"
     ]
    }
   ],
   "source": [
    "f = open(\"les brown.txt\", \"r\")\n",
    "pointer_pos = f.tell()\n",
    "print(\"Pointer Position :\",pointer_pos)\n",
    "seek_pos = f.seek(15)\n",
    "pointer_pos = f.tell()\n",
    "print(\"Pointer Position :\",pointer_pos)\n",
    "read_line = f.read(25)\n",
    "print(\"Print line from 15, 25 after :\",read_line)\n"
   ]
  },
  {
   "cell_type": "markdown",
   "metadata": {},
   "source": [
    "> Q3 You need a create a function which will check the validation of user password\n",
    "- Conditions are\n",
    "- password should have at least 1 capital letter\n",
    "- 1 smaller letter\n",
    "- Any special character only like !@#$%^\n",
    "- Length of the password should be minimum 6 character & maximum 15 character\n",
    "- Print a suitable message in case all the conditions are true other any other message"
   ]
  },
  {
   "cell_type": "code",
   "execution_count": 4,
   "metadata": {},
   "outputs": [
    {
     "name": "stdout",
     "output_type": "stream",
     "text": [
      "Enter a password : Blu55%df\n",
      "Congrats! Your password is valid.\n",
      "Password : Blu55%df\n"
     ]
    }
   ],
   "source": [
    "import re\n",
    "\n",
    "while True:\n",
    "    input_pasw = input(\"Enter a password : \")\n",
    "    pasw_valid = False\n",
    "    \n",
    "    if (len(input_pasw)<6 or len(input_pasw)>15):\n",
    "        print(\"InCorrect Pasword Lenth\")\n",
    "        continue\n",
    "    elif not re.search(\"[A-Z]\",input_pasw):\n",
    "        print(\"No Upper Case found\")\n",
    "        continue\n",
    "    elif not re.search(\"[a-z]\",input_pasw):\n",
    "        print(\"No Lower Case found\")\n",
    "        continue\n",
    "    elif not re.search(\"[!@#$%^]\",input_pasw):\n",
    "        print(\"No Special Character found\")\n",
    "        continue\n",
    "    else:\n",
    "        pasw_valid = True\n",
    "        break\n",
    "        \n",
    "if pasw_valid:\n",
    "    print(\"Congrats! Your password is valid.\")\n",
    "print(\"Password :\",input_pasw)"
   ]
  },
  {
   "cell_type": "markdown",
   "metadata": {},
   "source": [
    "> Q4. Write a Python Program to generate 26 text files named A.txt, B.txt and so on up to Z.txt"
   ]
  },
  {
   "cell_type": "code",
   "execution_count": 5,
   "metadata": {},
   "outputs": [],
   "source": [
    "import string\n",
    "alpha_str = string.ascii_uppercase\n",
    "a_list = list(alpha_str)\n",
    "\n",
    "for i in a_list:\n",
    "    with open(f'{i}.txt', 'w') as f:\n",
    "        f.writelines(f'FileName : {i}.txt')"
   ]
  },
  {
   "cell_type": "code",
   "execution_count": 6,
   "metadata": {},
   "outputs": [
    {
     "name": "stdout",
     "output_type": "stream",
     "text": [
      "['FileName : Y.txt']\n"
     ]
    }
   ],
   "source": [
    "with open('Y.txt', 'r') as f:\n",
    "    file_text = f.readlines()\n",
    "print(file_text)"
   ]
  },
  {
   "cell_type": "markdown",
   "metadata": {},
   "source": [
    "> Q5. Write a Python program to combine each line from the first file with the corresponding line in the \n",
    "second file and save it into the Third file."
   ]
  },
  {
   "cell_type": "code",
   "execution_count": 7,
   "metadata": {},
   "outputs": [
    {
     "name": "stdout",
     "output_type": "stream",
     "text": [
      "FileName : A.txt\n",
      "FileName : B.txt\n",
      "['FileName : A.txt\\n', 'FileName : B.txt']\n"
     ]
    }
   ],
   "source": [
    "with open('A.txt', 'r') as f:\n",
    "    file_text_A = f.readline()\n",
    "    print(file_text_A)\n",
    "with open('B.txt', 'r') as f:\n",
    "    file_text_B = f.readline()\n",
    "    print(file_text_B)\n",
    "with open('AB.txt', 'w') as f:\n",
    "    file_text_AB = f.writelines([f'{file_text_A}\\n{file_text_B}'])\n",
    "with open('AB.txt', 'r') as f:\n",
    "    file_text_AB = f.readlines()\n",
    "    print(file_text_AB)"
   ]
  },
  {
   "cell_type": "markdown",
   "metadata": {},
   "source": [
    "> Q6. You have to run your program at 12:00am, Date: 20th November, 2021 and wish your friend a “Happy \n",
    "Birthday” through your whatsApp.\n",
    "> #HINT\n",
    "- You can use Datetime module or time module and web browser for the same\n",
    "- Use of List\n",
    "- Use of conditional statements and loops"
   ]
  },
  {
   "cell_type": "code",
   "execution_count": 9,
   "metadata": {},
   "outputs": [
    {
     "name": "stdout",
     "output_type": "stream",
     "text": [
      "2021-11-22 09:51:33.282246\n",
      "Happy Birthday!!\n"
     ]
    }
   ],
   "source": [
    "import datetime\n",
    "\n",
    "time_now = datetime.datetime.now()\n",
    "print(time_now)\n",
    "\n",
    "ex_time = datetime.datetime(2021,11,20,0,0) \n",
    "\n",
    "def birthday(Today_Date, Birthday_date):\n",
    "    if Today_Date >= Birthday_date:\n",
    "        print(\"Happy Birthday!!\")\n",
    "        \n",
    "birthday(time_now, ex_time)\n"
   ]
  },
  {
   "cell_type": "code",
   "execution_count": null,
   "metadata": {},
   "outputs": [],
   "source": []
  }
 ],
 "metadata": {
  "kernelspec": {
   "display_name": "Python 3",
   "language": "python",
   "name": "python3"
  },
  "language_info": {
   "codemirror_mode": {
    "name": "ipython",
    "version": 3
   },
   "file_extension": ".py",
   "mimetype": "text/x-python",
   "name": "python",
   "nbconvert_exporter": "python",
   "pygments_lexer": "ipython3",
   "version": "3.7.6"
  }
 },
 "nbformat": 4,
 "nbformat_minor": 4
}
