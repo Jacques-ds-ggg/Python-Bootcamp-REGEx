{
 "cells": [
  {
   "cell_type": "markdown",
   "metadata": {},
   "source": [
    "# Assignment 1\n",
    "### Task 1\n",
    "> **By Jacques van der Westhuizen**\n",
    "\n",
    "> *21-11-2021*"
   ]
  },
  {
   "cell_type": "code",
   "execution_count": 1,
   "metadata": {},
   "outputs": [
    {
     "name": "stdout",
     "output_type": "stream",
     "text": [
      "5 5 5 5 5 \n",
      "5 5 5 5 \n",
      "5 5 5 \n",
      "5 5 \n",
      "5 \n"
     ]
    }
   ],
   "source": [
    "# 1.\n",
    "\n",
    "x = 5\n",
    "\n",
    "for i in range(x,0,-1):\n",
    "    print((str(x)+' ')*i)"
   ]
  },
  {
   "cell_type": "code",
   "execution_count": 2,
   "metadata": {},
   "outputs": [
    {
     "name": "stdout",
     "output_type": "stream",
     "text": [
      "0 1 2 3 4 5 \n",
      "0 1 2 3 4 \n",
      "0 1 2 3 \n",
      "0 1 2 \n",
      "0 1 \n"
     ]
    }
   ],
   "source": [
    "# 2.\n",
    "\n",
    "x = 0\n",
    "\n",
    "for i in range(6,1,-1):\n",
    "    for m in range(0,i):\n",
    "        print(x+m, end=' ')\n",
    "    print('')"
   ]
  },
  {
   "cell_type": "code",
   "execution_count": 3,
   "metadata": {},
   "outputs": [
    {
     "name": "stdout",
     "output_type": "stream",
     "text": [
      "1 \n",
      "3 3 \n",
      "5 5 5 \n",
      "7 7 7 7 \n",
      "9 9 9 9 9 \n"
     ]
    }
   ],
   "source": [
    "# 3.\n",
    "\n",
    "for i in range(1,6):\n",
    "    for b in range(0,i):\n",
    "        print(i*2-1,end=' ')\n",
    "    print('')\n",
    "    "
   ]
  },
  {
   "cell_type": "code",
   "execution_count": 4,
   "metadata": {},
   "outputs": [
    {
     "name": "stdout",
     "output_type": "stream",
     "text": [
      "\n",
      "1 \n",
      "2 1 \n",
      "3 2 1 \n",
      "4 3 2 1 \n",
      "5 4 3 2 1 \n"
     ]
    }
   ],
   "source": [
    "# 4.\n",
    "\n",
    "for i in range(0,6):\n",
    "    for k in range(i,0,-1):\n",
    "        print(k, end=' ')\n",
    "    print('')"
   ]
  },
  {
   "cell_type": "code",
   "execution_count": 5,
   "metadata": {},
   "outputs": [
    {
     "name": "stdout",
     "output_type": "stream",
     "text": [
      "1 \n",
      "3 2 \n",
      "6 5 4 \n",
      "10 9 8 7 \n"
     ]
    }
   ],
   "source": [
    "# 5. \n",
    "\n",
    "x = 0\n",
    "m = 1\n",
    "n = 1\n",
    "for i in range(0,4):\n",
    "    for p in range(m,x,-1):\n",
    "        print(p,end=' ')\n",
    "    print('')\n",
    "    m += n+1\n",
    "    x += n\n",
    "    n += 1\n",
    "    "
   ]
  },
  {
   "cell_type": "code",
   "execution_count": 6,
   "metadata": {},
   "outputs": [
    {
     "name": "stdout",
     "output_type": "stream",
     "text": [
      "1 \n",
      "1 1 \n",
      "1 2 1 1 1 \n",
      "1 2 1 1 1 1 \n",
      "1 2 1 1 1 1 1 \n",
      "1 2 1 1 1 1 1 1 \n",
      "1 2 1 1 1 1 1 1 1 \n",
      "1 2 "
     ]
    }
   ],
   "source": [
    "# 6.\n",
    "\n",
    "x = 1\n",
    "z = 1\n",
    "a = 1\n",
    "for i in range(0,7):\n",
    "    for y in range(0,x):\n",
    "        print(z, end=' ')\n",
    "    print('')\n",
    "    x += 1\n",
    "    if x > 2:\n",
    "        print(z, end=' ')\n",
    "        print(z+a, end=' ')\n",
    "        "
   ]
  },
  {
   "cell_type": "code",
   "execution_count": 7,
   "metadata": {},
   "outputs": [
    {
     "name": "stdout",
     "output_type": "stream",
     "text": [
      "1 2 3 4 5 \n",
      "2 2 3 4 5 \n",
      "3 3 3 4 5 \n",
      "4 4 4 4 5 \n",
      "5 5 5 5 5 \n"
     ]
    }
   ],
   "source": [
    "# 7.\n",
    "\n",
    "for a in range(1,6):\n",
    "    for b in range(1,6):\n",
    "        if a <= b:\n",
    "            print(b, end=' ')\n",
    "        elif a > b:\n",
    "            print(a, end=' ')\n",
    "    print('')\n",
    "    "
   ]
  },
  {
   "cell_type": "code",
   "execution_count": 8,
   "metadata": {},
   "outputs": [
    {
     "name": "stdout",
     "output_type": "stream",
     "text": [
      "1 \n",
      "2 4 \n",
      "3 6 9 \n",
      "4 8 12 16 \n",
      "5 10 15 20 25 \n",
      "6 12 18 24 30 36 \n",
      "7 14 21 28 35 42 49 \n",
      "8 16 24 32 40 48 56 64 \n"
     ]
    }
   ],
   "source": [
    "# 8.\n",
    "\n",
    "for a in range(1,9):\n",
    "    for b in range(1,a+1):\n",
    "        print(a*b, end=' ')\n",
    "    print('')"
   ]
  },
  {
   "cell_type": "code",
   "execution_count": 9,
   "metadata": {},
   "outputs": [
    {
     "name": "stdout",
     "output_type": "stream",
     "text": [
      " * * * * * * * \n",
      "  * * * * * * \n",
      "   * * * * * \n",
      "    * * * * \n",
      "     * * * \n",
      "      * * \n",
      "       * \n"
     ]
    }
   ],
   "source": [
    "# 9.\n",
    "\n",
    "c=0\n",
    "for a in range(7,0,-1):\n",
    "    print(' '*c,end=' ')\n",
    "    for b in range(a,0,-1):\n",
    "        print('*',end=' ')\n",
    "    print('')\n",
    "    c+=1"
   ]
  },
  {
   "cell_type": "code",
   "execution_count": 10,
   "metadata": {},
   "outputs": [
    {
     "name": "stdout",
     "output_type": "stream",
     "text": [
      "        \n",
      "       * \n",
      "      * * \n",
      "     * * * \n",
      "    * * * * \n",
      "   * * * * * \n",
      "  * * * * * * \n"
     ]
    }
   ],
   "source": [
    "# 10.\n",
    "\n",
    "c=7\n",
    "for a in range(0,7):\n",
    "    print(' '*c,end=' ')\n",
    "    for b in range(a,0,-1):\n",
    "        print('*',end=' ')\n",
    "    print('')\n",
    "    c-=1"
   ]
  },
  {
   "cell_type": "code",
   "execution_count": 11,
   "metadata": {},
   "outputs": [
    {
     "name": "stdout",
     "output_type": "stream",
     "text": [
      "\n",
      "* \n",
      "* * \n",
      "* * * \n",
      "* * * * \n",
      "* * * * * \n",
      "* * * * * * \n",
      " \n",
      "* * * * * * \n",
      "* * * * * \n",
      "* * * * \n",
      "* * * \n",
      "* * \n",
      "* \n"
     ]
    }
   ],
   "source": [
    "# 11.\n",
    "\n",
    "for a in range(0,7):\n",
    "    for b in range(a,0,-1):\n",
    "        print('*',end=' ')\n",
    "    print('')\n",
    "print(' ')\n",
    "for a in range(6,0,-1):\n",
    "    for b in range(a,0,-1):\n",
    "        print('*',end=' ')\n",
    "    print('')"
   ]
  },
  {
   "cell_type": "code",
   "execution_count": 12,
   "metadata": {},
   "outputs": [
    {
     "name": "stdout",
     "output_type": "stream",
     "text": [
      "\n",
      "* \n",
      "* * \n",
      "* * * \n",
      "* * * * \n",
      "* * * * * \n",
      "* * * * \n",
      "* * * \n",
      "* * \n",
      "* \n"
     ]
    }
   ],
   "source": [
    "# 12.\n",
    "\n",
    "for a in range(0,6):\n",
    "    for b in range(a,0,-1):\n",
    "        print('*',end=' ')\n",
    "    print('')\n",
    "for a in range(4,0,-1):\n",
    "    for b in range(a,0,-1):\n",
    "        print('*',end=' ')\n",
    "    print('')"
   ]
  },
  {
   "cell_type": "code",
   "execution_count": 13,
   "metadata": {},
   "outputs": [
    {
     "name": "stdout",
     "output_type": "stream",
     "text": [
      "           \n",
      "         * \n",
      "       * * \n",
      "     * * * \n",
      "   * * * * \n",
      " * * * * * \n",
      "   * * * * \n",
      "     * * * \n",
      "       * * \n",
      "         * \n"
     ]
    }
   ],
   "source": [
    "# 13. \n",
    "\n",
    "c=10\n",
    "for a in range(0,6):\n",
    "    print(' '*c,end=' ')\n",
    "    c-=2\n",
    "    for b in range(a,0,-1):\n",
    "        print('*',end=' ')\n",
    "    print('')\n",
    "d=2\n",
    "for a in range(4,0,-1):\n",
    "    print(' '*d,end=' ')\n",
    "    for b in range(a,0,-1):\n",
    "        print('*',end=' ')\n",
    "    print('')\n",
    "    d+=2"
   ]
  },
  {
   "cell_type": "code",
   "execution_count": 14,
   "metadata": {},
   "outputs": [
    {
     "name": "stdout",
     "output_type": "stream",
     "text": [
      "   * * * * * * \n",
      "    * * * * * \n",
      "     * * * * \n",
      "      * * * \n",
      "       * * \n",
      "        * \n",
      "         \n",
      "        * \n",
      "       * * \n",
      "      * * * \n",
      "     * * * * \n",
      "    * * * * * \n",
      "   * * * * * * \n"
     ]
    }
   ],
   "source": [
    "# 14.\n",
    "\n",
    "d=2\n",
    "for a in range(6,0,-1):\n",
    "    print(' '*d,end=' ')\n",
    "    for b in range(a,0,-1):\n",
    "        print('*',end=' ')\n",
    "    print('')\n",
    "    d+=1\n",
    "c=8\n",
    "for a in range(0,7):\n",
    "    print(' '*c,end=' ')\n",
    "    c-=1\n",
    "    for b in range(a,0,-1):\n",
    "        print('*',end=' ')\n",
    "    print('')"
   ]
  },
  {
   "cell_type": "code",
   "execution_count": 15,
   "metadata": {},
   "outputs": [
    {
     "name": "stdout",
     "output_type": "stream",
     "text": [
      "****************\n",
      "*******__*******\n",
      "******____******\n",
      "*****______*****\n",
      "****________****\n",
      "***__________***\n",
      "**____________**\n",
      "*______________*\n"
     ]
    }
   ],
   "source": [
    "# 15.\n",
    "\n",
    "c=8\n",
    "for a in range(0,8):\n",
    "    print('*'*c,end='')\n",
    "    c-=1\n",
    "    for b in range(a,0,-1):\n",
    "        print('_'*2,end='')\n",
    "    for e in range(c+1):\n",
    "        print('*',end='')\n",
    "    \n",
    "    print('')"
   ]
  },
  {
   "cell_type": "code",
   "execution_count": null,
   "metadata": {},
   "outputs": [],
   "source": []
  }
 ],
 "metadata": {
  "kernelspec": {
   "display_name": "Python 3",
   "language": "python",
   "name": "python3"
  },
  "language_info": {
   "codemirror_mode": {
    "name": "ipython",
    "version": 3
   },
   "file_extension": ".py",
   "mimetype": "text/x-python",
   "name": "python",
   "nbconvert_exporter": "python",
   "pygments_lexer": "ipython3",
   "version": "3.7.6"
  }
 },
 "nbformat": 4,
 "nbformat_minor": 4
}
